{
 "cells": [
  {
   "cell_type": "code",
   "execution_count": 1,
   "metadata": {},
   "outputs": [],
   "source": [
    "import numpy as np"
   ]
  },
  {
   "cell_type": "code",
   "execution_count": 2,
   "metadata": {},
   "outputs": [],
   "source": [
    "def padAmount(image_size, filter_size, stride = 1, mode = 'valid'):\n",
    "    if(mode == 'same'):\n",
    "        lower_bound = (image_size-1)*stride - (image_size-filter_size)\n",
    "        return int((lower_bound + lower_bound%2)/2)\n",
    "    elif(mode == 'valid'):\n",
    "        return 0\n",
    "    else:\n",
    "        print('invalid input')\n",
    "        return -1\n",
    "    "
   ]
  },
  {
   "cell_type": "code",
   "execution_count": 3,
   "metadata": {},
   "outputs": [],
   "source": [
    "from PIL import Image"
   ]
  },
  {
   "cell_type": "code",
   "execution_count": 4,
   "metadata": {},
   "outputs": [],
   "source": [
    "# padding section:\n",
    "def pad_image(im1_array, kernel, stride, mode = 'same'):\n",
    "    imgsize_x = im1_array.shape[0]\n",
    "    imgsize_y = im1_array.shape[1]\n",
    "    kernel_size = kernel.shape[0]\n",
    "    pad_x = padAmount(imgsize_x, kernel_size, stride, mode)\n",
    "    pad_y = padAmount(imgsize_y, kernel_size, stride, mode)\n",
    "    print('pad_x = ' + str(pad_x))\n",
    "    print('pad_y = ' + str(pad_y))\n",
    "    paddedim1_array = np.pad(im1_array, ((pad_x,),(pad_y,)), 'constant', constant_values=(0,))\n",
    "    padded_img1 = Image.fromarray(paddedim1_array)\n",
    "    #Image.fromarray(paddedim1_array).show()\n",
    "    \n",
    "    return paddedim1_array"
   ]
  },
  {
   "cell_type": "code",
   "execution_count": 5,
   "metadata": {},
   "outputs": [],
   "source": [
    " def convolve_matrix(img_arr, kernel, stride = 1):\n",
    "    kernel_size = kernel.shape[0]\n",
    "    slice_x = np.arange(kernel_size)\n",
    "    slice_y = np.arange(kernel_size)\n",
    "    for_leni = img_arr.shape[0]-kernel_size+1\n",
    "    for_lenj = img_arr.shape[1]-kernel_size+1\n",
    "    output_img = []\n",
    "    for i in range(0, for_leni, stride):\n",
    "        row = []\n",
    "        for j in range(0, for_lenj, stride):\n",
    "            a = slice_x+i\n",
    "            b = slice_y+j\n",
    "            row.append(np.sum(img_arr[np.ix_(a,b)]*kernel))\n",
    "        output_img.append(row)\n",
    "    return np.array(output_img)"
   ]
  },
  {
   "cell_type": "code",
   "execution_count": 10,
   "metadata": {},
   "outputs": [],
   "source": [
    "#edge detection:\n",
    "edge = np.array([[ -1, -1, -1],\n",
    "                  [-1,  8, -1],\n",
    "                  [-1, -1, -1]])\n",
    "\n",
    "#sharpening:\n",
    "sharp = np.array([[ 0, -1,  0],\n",
    "                  [-1,  5, -1],\n",
    "                  [ 0, -1,  0]])\n",
    "\n",
    "#normalize box blur:\n",
    "blur = np.array([[  1,  1,  1],\n",
    "                  [ 1,  1,  1],\n",
    "                  [ 1,  1,  1]])\n",
    "blur = 1/9 *blur\n",
    "\n",
    "#gaussian blur 5*5:\n",
    "gauss_blur = np.array([[ 1,  4,    6,  4, 1],\n",
    "                       [ 4, 16,   24, 16, 4],\n",
    "                       [ 6, 24,   36, 24, 6],\n",
    "                       [ 4, 16,   24, 16, 4],\n",
    "                       [ 1,  4,    6,  4, 1]])\n",
    "gauss_blur = gauss_blur * 1/256\n",
    "\n",
    "#unsharp masking 5*5:\n",
    "unsharp = np.array   ([[ 1,  4,    6,  4, 1],\n",
    "                       [ 4, 16,   24, 16, 4],\n",
    "                       [ 6, 24, -476, 24, 6],\n",
    "                       [ 4, 16,   24, 16, 4],\n",
    "                       [ 1,  4,    6,  4, 1]])\n",
    "unsharp = unsharp * -1/256\n",
    "\n",
    "kernels = {\n",
    "    1:edge,\n",
    "    2:sharp,\n",
    "    3:blur,\n",
    "    4:gauss_blur,\n",
    "    5:unsharp\n",
    "}\n",
    "\n",
    "kernels_name = {\n",
    "    1:'edge_detection_filter',\n",
    "    2:'sharp_filter',\n",
    "    3:'normalized_blur_filter',\n",
    "    4:'gauss_blur(5x5)_filter',\n",
    "    5:'unsharp_masking(5x5)_filter'\n",
    "}\n",
    "\n",
    "\n",
    "#embossing filter\n",
    "#[[-1, -1, 0],\n",
    "# [-1, 0 , 1],\n",
    "# [0, 1, 1]]\n",
    "#smoothing filter\n",
    "#1/9*[[1, 1, 1],\n",
    "#     [1, 1 , 1],\n",
    "#     [1, 1, 1]]\n",
    "#intensified sharpening\n",
    "#[[-1, -1, -1],\n",
    "# [-1, 9, -1],\n",
    "# [-1, -1, -1]]"
   ]
  },
  {
   "cell_type": "code",
   "execution_count": 28,
   "metadata": {},
   "outputs": [
    {
     "name": "stdout",
     "output_type": "stream",
     "text": [
      "choose image from {1, 2, 3}: 3\n",
      "what filter do you want to apply? (choose from the options below):\n",
      "1:edge,\n",
      "2:sharp,\n",
      "3:blur,\n",
      "4:gauss_blur,\n",
      "5:unsharp\n",
      "5\n",
      "please enter the value of stride: 1\n",
      "please enter the mode of the size of the output image:{valid/same}: same\n",
      "pad_x = 2\n",
      "pad_y = 2\n"
     ]
    }
   ],
   "source": [
    "img_name = input(\"choose image from {1, 2, 3}: \")\n",
    "img1 = Image.open(img_name+'.jpg').convert('L')\n",
    "im1_array = np.array(img1)\n",
    "#info = np.iinfo(im1_array.dtype)\n",
    "#im1_array = im1_array.astype(np.integer)/info.max\n",
    "\n",
    "option_ker = int(input(\"what filter do you want to apply? (choose from the options below):\\n1:edge,\\n2:sharp,\\n3:blur,\\n4:gauss_blur,\\n5:unsharp\\n\"))\n",
    "kernel = kernels[option_ker]\n",
    "stride = int(input(\"please enter the value of stride: \"))\n",
    "\n",
    "mode = input(\"please enter the mode of the size of the output image:{valid/same}: \")\n",
    "while(mode!='valid' and mode!='same'):\n",
    "    mode = input(\"::*NOTVALID INPUT*:: please re-enter the mode of the size of the output image:{valid/same}: \")\n",
    "\n",
    "paddedim1_array = pad_image(im1_array, kernel, stride, mode)\n",
    "out_img1 = Image.fromarray(convolve_matrix(paddedim1_array, kernel, stride))\n",
    "out_img1 = out_img1.convert('L')\n",
    "#out_img1.show()\n",
    "out_img1.save(img_name+\"_out_\"+kernels_name[option_ker]+\".jpg\")"
   ]
  },
  {
   "cell_type": "code",
   "execution_count": 8,
   "metadata": {},
   "outputs": [],
   "source": [
    "img1.show()"
   ]
  }
 ],
 "metadata": {
  "kernelspec": {
   "display_name": "Python 3",
   "language": "python",
   "name": "python3"
  },
  "language_info": {
   "codemirror_mode": {
    "name": "ipython",
    "version": 3
   },
   "file_extension": ".py",
   "mimetype": "text/x-python",
   "name": "python",
   "nbconvert_exporter": "python",
   "pygments_lexer": "ipython3",
   "version": "3.7.5"
  }
 },
 "nbformat": 4,
 "nbformat_minor": 2
}
