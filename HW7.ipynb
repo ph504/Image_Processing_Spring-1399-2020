{
 "cells": [
  {
   "cell_type": "code",
   "execution_count": 2,
   "metadata": {},
   "outputs": [],
   "source": [
    "import numpy as np"
   ]
  },
  {
   "cell_type": "code",
   "execution_count": 3,
   "metadata": {},
   "outputs": [],
   "source": [
    "def padAmount(image_size, filter_size, stride = 1, mode = 'valid'):\n",
    "    if(mode == 'same'):\n",
    "        lower_bound = (image_size-1)*stride - (image_size-filter_size)\n",
    "        return int((lower_bound + lower_bound%2)/2)\n",
    "    elif(mode == 'valid'):\n",
    "        return 0\n",
    "    else:\n",
    "        print('invalid input')\n",
    "        return -1\n",
    "    "
   ]
  },
  {
   "cell_type": "code",
   "execution_count": 4,
   "metadata": {},
   "outputs": [],
   "source": [
    "from PIL import Image"
   ]
  },
  {
   "cell_type": "code",
   "execution_count": 34,
   "metadata": {},
   "outputs": [
    {
     "name": "stdout",
     "output_type": "stream",
     "text": [
      "please enter the value of stride: 1\n",
      "please enter the mode of the size of the output image: awsfasfa\n"
     ]
    }
   ],
   "source": [
    "img1 = Image.open('5.jpg').convert('L')\n",
    "im1_array = np.array(img1)\n",
    "#info = np.iinfo(im1_array.dtype)\n",
    "#im1_array = im1_array.astype(np.integer)/info.max\n",
    "\n",
    "kernel = np.array(\n",
    "    [[0, -1, 0],\n",
    "    [-1, 5, -1],\n",
    "    [0, -1, 0]]\n",
    ")\n",
    "#kernel = 4/6*kernel\n",
    "\n",
    "stride = int(input(\"please enter the value of stride: \"))\n",
    "mode = input(\"please enter the mode of the size of the output image: \")\n",
    "\n",
    "paddedim1_array = pad_image(im1_array, kernel, stride)\n",
    "out_img1 = Image.fromarray(convolve_matrix(paddedim1_array, kernel, stride))\n",
    "out_img1 = out_img1.convert('L')\n",
    "out_img1.show()"
   ]
  },
  {
   "cell_type": "code",
   "execution_count": 8,
   "metadata": {},
   "outputs": [],
   "source": [
    "# padding section:\n",
    "def pad_image(im1_array, kernel, stride):\n",
    "    imgsize_x = im1_array.shape[0]\n",
    "    imgsize_y = im1_array.shape[1]\n",
    "    kernel_size = kernel.shape[0]\n",
    "    pad_x = padAmount(imgsize_x, kernel_size, stride, mode='same')\n",
    "    pad_y = padAmount(imgsize_y, kernel_size, stride, mode='same')\n",
    "    paddedim1_array = np.pad(im1_array, (pad_x, pad_y))\n",
    "    padded_img1 = Image.fromarray(paddedim1_array)\n",
    "    \n",
    "    return paddedim1_array"
   ]
  },
  {
   "cell_type": "code",
   "execution_count": 9,
   "metadata": {},
   "outputs": [],
   "source": [
    " def convolve_matrix(img_arr, kernel, stride = 1):\n",
    "    kernel_size = kernel.shape[0]\n",
    "    slice_x = np.arange(kernel_size)\n",
    "    slice_y = np.arange(kernel_size)\n",
    "    for_leni = img_arr.shape[0]-kernel_size+1\n",
    "    for_lenj = img_arr.shape[1]-kernel_size+1\n",
    "    output_img = []\n",
    "    for i in range(0, for_leni, stride):\n",
    "        row = []\n",
    "        for j in range(0, for_lenj, stride):\n",
    "            a = slice_x+i\n",
    "            b = slice_y+j\n",
    "            row.append(np.sum(img_arr[np.ix_(a,b)]*kernel))\n",
    "        output_img.append(row)\n",
    "    return np.array(output_img)"
   ]
  },
  {
   "cell_type": "code",
   "execution_count": 13,
   "metadata": {},
   "outputs": [],
   "source": [
    "img1.show()"
   ]
  },
  {
   "cell_type": "code",
   "execution_count": 11,
   "metadata": {},
   "outputs": [
    {
     "ename": "IndentationError",
     "evalue": "unexpected indent (<ipython-input-11-17cede5d1f40>, line 30)",
     "output_type": "error",
     "traceback": [
      "\u001b[1;36m  File \u001b[1;32m\"<ipython-input-11-17cede5d1f40>\"\u001b[1;36m, line \u001b[1;32m30\u001b[0m\n\u001b[1;33m    1/9*[[1, 1, 1],\u001b[0m\n\u001b[1;37m    ^\u001b[0m\n\u001b[1;31mIndentationError\u001b[0m\u001b[1;31m:\u001b[0m unexpected indent\n"
     ]
    }
   ],
   "source": [
    "#edge detection:\n",
    "[[-1, -1, -1],\n",
    "[-1,  8, -1],\n",
    "[-1, -1, -1]]\n",
    "#sharpening:\n",
    "[[0, -1, 0],\n",
    "[-1, 5, -1],\n",
    "[0, -1, 0]]\n",
    "#normalize box blur:\n",
    "1/9*[[1, 1, 1],\n",
    "    [1, 1, 1],\n",
    "    [1, 1, 1]]\n",
    "#gaussian blur 5*5:\n",
    "1/256 *  [[1, 4, 6, 4, 1],\n",
    "         [4, 16, 24, 16, 4],\n",
    "         [6, 24, 36, 24, 6],\n",
    "         [4, 16, 24, 16, 4],\n",
    "         [1, 4, 6, 4, 1]]\n",
    "#unsharp masking 5*5:\n",
    "-1/256 * [[1, 4, 6, 4, 1],\n",
    "         [4, 16, 24, 16, 4],\n",
    "         [6, 24, -476, 24, 6],\n",
    "         [4, 16, 24, 16, 4],\n",
    "         [1, 4, 6, 4, 1]]\n",
    "#embossing filter\n",
    "[[-1, -1, 0],\n",
    " [-1, 0 , 1],\n",
    " [0, 1, 1]]\n",
    "#embossing filter\n",
    " 1/9*[[1, 1, 1],\n",
    "     [1, 1 , 1],\n",
    "     [1, 1, 1]]\n",
    "#intensified sharpening\n",
    "[[-1, -1, -1],\n",
    " [-1, 9, -1],\n",
    " [-1, -1, -1]]"
   ]
  },
  {
   "cell_type": "code",
   "execution_count": 33,
   "metadata": {},
   "outputs": [],
   "source": [
    "out_img1.save(\"5_out.png\")"
   ]
  },
  {
   "cell_type": "code",
   "execution_count": null,
   "metadata": {},
   "outputs": [],
   "source": []
  }
 ],
 "metadata": {
  "kernelspec": {
   "display_name": "Python 3",
   "language": "python",
   "name": "python3"
  },
  "language_info": {
   "codemirror_mode": {
    "name": "ipython",
    "version": 3
   },
   "file_extension": ".py",
   "mimetype": "text/x-python",
   "name": "python",
   "nbconvert_exporter": "python",
   "pygments_lexer": "ipython3",
   "version": "3.7.5"
  }
 },
 "nbformat": 4,
 "nbformat_minor": 2
}
